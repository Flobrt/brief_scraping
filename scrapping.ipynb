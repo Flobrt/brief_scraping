{
 "cells": [
  {
   "cell_type": "code",
   "execution_count": 78,
   "metadata": {},
   "outputs": [],
   "source": [
    "import requests\n",
    "from bs4 import BeautifulSoup\n",
    "import pandas as pd"
   ]
  },
  {
   "cell_type": "code",
   "execution_count": 79,
   "metadata": {},
   "outputs": [
    {
     "name": "stdout",
     "output_type": "stream",
     "text": [
      "A Light in the ...\n",
      "51.77\n",
      "Three\n",
      "Tipping the Velvet\n",
      "53.74\n",
      "One\n",
      "Soumission\n",
      "50.10\n",
      "One\n",
      "Sharp Objects\n",
      "47.82\n",
      "Four\n",
      "Sapiens: A Brief History ...\n",
      "54.23\n",
      "Five\n",
      "The Requiem Red\n",
      "22.65\n",
      "One\n",
      "The Dirty Little Secrets ...\n",
      "33.34\n",
      "Four\n",
      "The Coming Woman: A ...\n",
      "17.93\n",
      "Three\n",
      "The Boys in the ...\n",
      "22.60\n",
      "Four\n",
      "The Black Maria\n",
      "52.15\n",
      "One\n",
      "Starving Hearts (Triangular Trade ...\n",
      "13.99\n",
      "Two\n",
      "Shakespeare's Sonnets\n",
      "20.66\n",
      "Four\n",
      "Set Me Free\n",
      "17.46\n",
      "Five\n",
      "Scott Pilgrim's Precious Little ...\n",
      "52.29\n",
      "Five\n",
      "Rip it Up and ...\n",
      "35.02\n",
      "Five\n",
      "Our Band Could Be ...\n",
      "57.25\n",
      "Three\n",
      "Olio\n",
      "23.88\n",
      "One\n",
      "Mesaerion: The Best Science ...\n",
      "37.59\n",
      "One\n",
      "Libertarianism for Beginners\n",
      "51.33\n",
      "Two\n",
      "It's Only the Himalayas\n",
      "45.17\n",
      "Two\n"
     ]
    }
   ],
   "source": [
    "site = \"https://books.toscrape.com/\"\n",
    "info = requests.get(site)\n",
    "\n",
    "soup = BeautifulSoup(info.text, 'html.parser')\n",
    "\n",
    "for article in soup.find_all('article'):\n",
    "    print(article.h3.a.text)\n",
    "    print(article.find('p', class_='price_color').text[2:])\n",
    "    print(article.p['class'][1])"
   ]
  },
  {
   "cell_type": "code",
   "execution_count": 88,
   "metadata": {},
   "outputs": [
    {
     "name": "stdout",
     "output_type": "stream",
     "text": [
      "{'Titre': ['A Light in the ...', 'Tipping the Velvet', 'Soumission', 'Sharp Objects', 'Sapiens: A Brief History ...', 'The Requiem Red', 'The Dirty Little Secrets ...', 'The Coming Woman: A ...', 'The Boys in the ...', 'The Black Maria', 'Starving Hearts (Triangular Trade ...', \"Shakespeare's Sonnets\", 'Set Me Free', \"Scott Pilgrim's Precious Little ...\", 'Rip it Up and ...', 'Our Band Could Be ...', 'Olio', 'Mesaerion: The Best Science ...', 'Libertarianism for Beginners', \"It's Only the Himalayas\", 'In Her Wake', 'How Music Works', 'Foolproof Preserving: A Guide ...', 'Chase Me (Paris Nights ...', 'Black Dust', 'Birdsong: A Story in ...', \"America's Cradle of Quarterbacks: ...\", 'Aladdin and His Wonderful ...', 'Worlds Elsewhere: Journeys Around ...', 'Wall and Piece', 'The Four Agreements: A ...', 'The Five Love Languages: ...', 'The Elephant Tree', 'The Bear and the ...', \"Sophie's World\", 'Penny Maybe', 'Maude (1883-1993):She Grew Up ...', 'In a Dark, Dark ...', 'Behind Closed Doors', \"You can't bury them ...\", 'Slow States of Collapse: ...', 'Reasons to Stay Alive', 'Private Paris (Private #10)', '#HigherSelfie: Wake Up Your ...', 'Without Borders (Wanderlove #1)', 'When We Collided', 'We Love You, Charlie ...', 'Untitled Collection: Sabbath Poems ...', 'Unseen City: The Majesty ...', 'Unicorn Tracks', 'Unbound: How Eight Technologies ...', 'Tsubasa: WoRLD CHRoNiCLE 2 ...', 'Throwing Rocks at the ...', 'This One Summer', 'Thirst', 'The Torch Is Passed: ...', 'The Secret of Dreadwillow ...', 'The Pioneer Woman Cooks: ...', 'The Past Never Ends', 'The Natural History of ...', 'The Nameless City (The ...', 'The Murder That Never ...', 'The Most Perfect Thing: ...', 'The Mindfulness and Acceptance ...', 'The Life-Changing Magic of ...', 'The Inefficiency Assassin: Time ...', 'The Gutsy Girl: Escapades ...', 'The Electric Pencil: Drawings ...', 'The Death of Humanity: ...', 'The Bulletproof Diet: Lose ...', 'The Art Forger', 'The Age of Genius: ...', \"The Activist's Tao Te ...\", 'Spark Joy: An Illustrated ...', 'Soul Reader', 'Security', 'Saga, Volume 6 (Saga ...', 'Saga, Volume 5 (Saga ...', 'Reskilling America: Learning to ...', 'Rat Queens, Vol. 3: ...', 'Princess Jellyfish 2-in-1 Omnibus, ...', 'Princess Between Worlds (Wide-Awake ...', 'Pop Gun War, Volume ...', 'Political Suicide: Missteps, Peccadilloes, ...', 'Patience', 'Outcast, Vol. 1: A ...', 'orange: The Complete Collection ...', 'Online Marketing for Busy ...', 'On a Midnight Clear', 'Obsidian (Lux #1)', 'My Paris Kitchen: Recipes ...', 'Masks and Shadows', 'Mama Tried: Traditional Italian ...', 'Lumberjanes, Vol. 2: Friendship ...', 'Lumberjanes, Vol. 1: Beware ...', 'Lumberjanes Vol. 3: A ...', 'Layered: Baking, Building, and ...', 'Judo: Seven Steps to ...', 'Join', 'In the Country We ...', 'Immunity: How Elie Metchnikoff ...', 'I Hate Fairyland, Vol. ...', 'I am a Hero ...', 'How to Be Miserable: ...', 'Her Backup Boyfriend (The ...', 'Giant Days, Vol. 2 ...', 'Forever and Forever: The ...', 'First and First (Five ...', 'Fifty Shades Darker (Fifty ...', 'Everydata: The Misinformation Hidden ...', \"Don't Be a Jerk: ...\", 'Danganronpa Volume 1', 'Crown of Midnight (Throne ...', 'Codename Baboushka, Volume 1: ...', 'Camp Midnight', 'Call the Nurse: True ...', 'Burning', 'Bossypants', 'Bitch Planet, Vol. 1: ...', 'Avatar: The Last Airbender: ...', 'Algorithms to Live By: ...', 'A World of Flavor: ...', 'A Piece of Sky, ...', 'A Murder in Time', 'A Flight of Arrows ...', 'A Fierce and Subtle ...', 'A Court of Thorns ...', '(Un)Qualified: How God Uses ...', 'You Are What You ...', \"William Shakespeare's Star Wars: ...\", 'Tuesday Nights in 1980', 'Tracing Numbers on a ...', 'Throne of Glass (Throne ...', 'Thomas Jefferson and the ...', 'Thirteen Reasons Why', 'The White Cat and ...', 'The Wedding Dress', 'The Vacationers', 'The Third Wave: An ...', 'The Stranger', 'The Shadow Hero (The ...', 'The Secret (The Secret ...', 'The Regional Office Is ...', 'The Psychopath Test: A ...', 'The Project', 'The Power of Now: ...', \"The Omnivore's Dilemma: A ...\", 'The Nerdy Nummies Cookbook: ...', 'The Murder of Roger ...', 'The Mistake (Off-Campus #2)', \"The Matchmaker's Playbook (Wingmen ...\", 'The Love and Lemons ...', 'The Long Shadow of ...', 'The Kite Runner', 'The House by the ...', 'The Glittering Court (The ...', 'The Girl on the ...', 'The Genius of Birds', 'The Emerald Mystery', 'The Cookies & Cups ...', 'The Bridge to Consciousness: ...', \"The Artist's Way: A ...\", 'The Art of War', 'The Argonauts', 'The 10% Entrepreneur: Live ...', 'Suddenly in Love (Lake ...', 'Something More Than This', 'Soft Apocalypse', \"So You've Been Publicly ...\", 'Shoe Dog: A Memoir ...', 'Shobu Samurai, Project Aryoku ...', 'Secrets and Lace (Fatal ...', 'Scarlett Epstein Hates It ...', 'Romero and Juliet: A ...', 'Redeeming Love', 'Poses for Artists Volume ...', 'Poems That Make Grown ...', 'Nightingale, Sing', 'Night Sky with Exit ...', 'Mrs. Houdini'], 'Prix': ['51.77', '53.74', '50.10', '47.82', '54.23', '22.65', '33.34', '17.93', '22.60', '52.15', '13.99', '20.66', '17.46', '52.29', '35.02', '57.25', '23.88', '37.59', '51.33', '45.17', '12.84', '37.32', '30.52', '25.27', '34.53', '54.64', '22.50', '53.13', '40.30', '44.18', '17.66', '31.05', '23.82', '36.89', '15.94', '33.29', '18.02', '19.63', '52.22', '33.63', '57.31', '26.41', '47.61', '23.11', '45.07', '31.77', '50.27', '14.27', '44.18', '18.78', '25.52', '16.28', '31.12', '19.49', '17.27', '19.09', '56.13', '56.41', '56.50', '45.22', '38.16', '54.11', '42.96', '23.89', '16.77', '20.59', '37.13', '56.06', '58.11', '49.05', '40.76', '19.73', '32.24', '41.83', '39.58', '39.25', '25.02', '51.04', '19.83', '50.40', '13.61', '13.34', '18.97', '36.28', '10.16', '15.44', '48.41', '46.35', '14.07', '14.86', '33.37', '56.40', '14.02', '46.91', '45.61', '19.92', '40.11', '53.90', '35.67', '22.00', '57.36', '29.17', '54.63', '46.03', '33.97', '22.11', '29.69', '15.97', '21.96', '54.35', '37.97', '51.99', '43.29', '36.72', '17.08', '29.14', '28.81', '49.46', '37.92', '28.09', '30.81', '42.95', '56.76', '16.64', '55.53', '28.13', '52.37', '54.00', '21.87', '43.30', '21.04', '41.60', '35.07', '59.64', '52.72', '58.08', '24.12', '42.15', '12.61', '17.44', '33.14', '27.37', '51.36', '36.00', '10.65', '43.54', '38.21', '37.34', '44.10', '43.29', '55.85', '37.60', '10.97', '41.82', '36.95', '44.28', '55.02', '17.24', '23.15', '41.25', '32.00', '38.49', '33.34', '10.93', '27.55', '55.99', '16.24', '26.12', '12.23', '23.99', '29.06', '20.27', '43.55', '36.94', '20.47', '41.06', '14.19', '38.28', '41.05', '30.25'], 'Note': ['Three', 'One', 'One', 'Four', 'Five', 'One', 'Four', 'Three', 'Four', 'One', 'Two', 'Four', 'Five', 'Five', 'Five', 'Three', 'One', 'One', 'Two', 'Two', 'One', 'Two', 'Three', 'Five', 'Five', 'Three', 'Three', 'Three', 'Five', 'Four', 'Five', 'Three', 'Five', 'One', 'Five', 'Three', 'Two', 'One', 'Four', 'Two', 'Three', 'Two', 'Five', 'Five', 'Two', 'One', 'Five', 'Four', 'Four', 'Three', 'One', 'One', 'Three', 'Four', 'Five', 'One', 'One', 'One', 'Four', 'Three', 'Four', 'Three', 'Four', 'Four', 'Three', 'Five', 'One', 'One', 'Four', 'Three', 'Three', 'One', 'Five', 'Four', 'Two', 'Two', 'Three', 'Two', 'Two', 'Three', 'Five', 'Five', 'One', 'Two', 'Three', 'Four', 'One', 'One', 'Three', 'Two', 'Two', 'Two', 'Four', 'Two', 'Three', 'Two', 'One', 'Two', 'Five', 'Four', 'Five', 'Two', 'Three', 'One', 'One', 'Two', 'Three', 'Four', 'One', 'Two', 'Two', 'Four', 'Three', 'Four', 'Four', 'Five', 'Three', 'Two', 'Two', 'Two', 'One', 'One', 'Five', 'One', 'Five', 'Four', 'One', 'Five', 'Four', 'Four', 'Two', 'Three', 'Three', 'One', 'One', 'Four', 'One', 'Four', 'Five', 'Four', 'One', 'Four', 'Five', 'Two', 'One', 'Two', 'Two', 'Five', 'Four', 'Three', 'One', 'Two', 'One', 'Four', 'One', 'One', 'Two', 'One', 'Two', 'One', 'Three', 'Five', 'Five', 'Two', 'Three', 'Two', 'Four', 'Two', 'Two', 'Two', 'Three', 'One', 'Five', 'One', 'Five', 'One', 'Four', 'One', 'One', 'Five']}\n"
     ]
    }
   ],
   "source": [
    "i = 1\n",
    "nb_page = 10\n",
    "dict_response = {}\n",
    "list_titre = []\n",
    "list_prix = []\n",
    "list_note = []\n",
    "\n",
    "while i < nb_page:\n",
    "    url = f\"https://books.toscrape.com/catalogue/page-{i}.html\"\n",
    "    response = requests.get(url)\n",
    "\n",
    "    soup = BeautifulSoup(response.text, 'html.parser')\n",
    "    \n",
    "    for article in soup.find_all('article'):\n",
    "        title = article.h3.a.text\n",
    "        price = article.find('p', class_='price_color').text\n",
    "        note = article.p['class'][1]\n",
    "        list_titre.append(title)\n",
    "        list_prix.append(price[2:])\n",
    "        list_note.append(note)  \n",
    "\n",
    "    i += 1\n",
    "\n",
    "dict_response['Titre'] = list_titre\n",
    "dict_response['Prix'] = list_prix\n",
    "dict_response['Note'] = list_note\n",
    "\n",
    "print(dict_response)"
   ]
  },
  {
   "cell_type": "code",
   "execution_count": 89,
   "metadata": {},
   "outputs": [],
   "source": [
    "df = pd.DataFrame(dict_response)"
   ]
  },
  {
   "cell_type": "code",
   "execution_count": 90,
   "metadata": {},
   "outputs": [
    {
     "data": {
      "text/html": [
       "<div>\n",
       "<style scoped>\n",
       "    .dataframe tbody tr th:only-of-type {\n",
       "        vertical-align: middle;\n",
       "    }\n",
       "\n",
       "    .dataframe tbody tr th {\n",
       "        vertical-align: top;\n",
       "    }\n",
       "\n",
       "    .dataframe thead th {\n",
       "        text-align: right;\n",
       "    }\n",
       "</style>\n",
       "<table border=\"1\" class=\"dataframe\">\n",
       "  <thead>\n",
       "    <tr style=\"text-align: right;\">\n",
       "      <th></th>\n",
       "      <th>Titre</th>\n",
       "      <th>Prix</th>\n",
       "      <th>Note</th>\n",
       "    </tr>\n",
       "  </thead>\n",
       "  <tbody>\n",
       "    <tr>\n",
       "      <th>0</th>\n",
       "      <td>A Light in the ...</td>\n",
       "      <td>51.77</td>\n",
       "      <td>Three</td>\n",
       "    </tr>\n",
       "    <tr>\n",
       "      <th>1</th>\n",
       "      <td>Tipping the Velvet</td>\n",
       "      <td>53.74</td>\n",
       "      <td>One</td>\n",
       "    </tr>\n",
       "    <tr>\n",
       "      <th>2</th>\n",
       "      <td>Soumission</td>\n",
       "      <td>50.10</td>\n",
       "      <td>One</td>\n",
       "    </tr>\n",
       "    <tr>\n",
       "      <th>3</th>\n",
       "      <td>Sharp Objects</td>\n",
       "      <td>47.82</td>\n",
       "      <td>Four</td>\n",
       "    </tr>\n",
       "    <tr>\n",
       "      <th>4</th>\n",
       "      <td>Sapiens: A Brief History ...</td>\n",
       "      <td>54.23</td>\n",
       "      <td>Five</td>\n",
       "    </tr>\n",
       "    <tr>\n",
       "      <th>...</th>\n",
       "      <td>...</td>\n",
       "      <td>...</td>\n",
       "      <td>...</td>\n",
       "    </tr>\n",
       "    <tr>\n",
       "      <th>175</th>\n",
       "      <td>Poses for Artists Volume ...</td>\n",
       "      <td>41.06</td>\n",
       "      <td>One</td>\n",
       "    </tr>\n",
       "    <tr>\n",
       "      <th>176</th>\n",
       "      <td>Poems That Make Grown ...</td>\n",
       "      <td>14.19</td>\n",
       "      <td>Four</td>\n",
       "    </tr>\n",
       "    <tr>\n",
       "      <th>177</th>\n",
       "      <td>Nightingale, Sing</td>\n",
       "      <td>38.28</td>\n",
       "      <td>One</td>\n",
       "    </tr>\n",
       "    <tr>\n",
       "      <th>178</th>\n",
       "      <td>Night Sky with Exit ...</td>\n",
       "      <td>41.05</td>\n",
       "      <td>One</td>\n",
       "    </tr>\n",
       "    <tr>\n",
       "      <th>179</th>\n",
       "      <td>Mrs. Houdini</td>\n",
       "      <td>30.25</td>\n",
       "      <td>Five</td>\n",
       "    </tr>\n",
       "  </tbody>\n",
       "</table>\n",
       "<p>180 rows × 3 columns</p>\n",
       "</div>"
      ],
      "text/plain": [
       "                            Titre   Prix   Note\n",
       "0              A Light in the ...  51.77  Three\n",
       "1              Tipping the Velvet  53.74    One\n",
       "2                      Soumission  50.10    One\n",
       "3                   Sharp Objects  47.82   Four\n",
       "4    Sapiens: A Brief History ...  54.23   Five\n",
       "..                            ...    ...    ...\n",
       "175  Poses for Artists Volume ...  41.06    One\n",
       "176     Poems That Make Grown ...  14.19   Four\n",
       "177             Nightingale, Sing  38.28    One\n",
       "178       Night Sky with Exit ...  41.05    One\n",
       "179                  Mrs. Houdini  30.25   Five\n",
       "\n",
       "[180 rows x 3 columns]"
      ]
     },
     "execution_count": 90,
     "metadata": {},
     "output_type": "execute_result"
    }
   ],
   "source": [
    "df.head(200)"
   ]
  },
  {
   "cell_type": "code",
   "execution_count": 91,
   "metadata": {},
   "outputs": [
    {
     "name": "stdout",
     "output_type": "stream",
     "text": [
      "                     Titre   Prix Note\n",
      "count                  180    180  180\n",
      "unique                 180    177    5\n",
      "top     A Light in the ...  33.34  One\n",
      "freq                     1      2   45\n"
     ]
    }
   ],
   "source": [
    "print(df.describe())"
   ]
  },
  {
   "cell_type": "code",
   "execution_count": 92,
   "metadata": {},
   "outputs": [
    {
     "data": {
      "text/plain": [
       "<Axes: ylabel='Frequency'>"
      ]
     },
     "execution_count": 92,
     "metadata": {},
     "output_type": "execute_result"
    },
    {
     "data": {
      "image/png": "[encoded data removed]",
      "text/plain": [
       "<Figure size 640x480 with 1 Axes>"
      ]
     },
     "metadata": {},
     "output_type": "display_data"
    }
   ],
   "source": [
    "df['Prix'] = df['Prix'].astype(float)\n",
    "df['Prix'].plot(kind='hist', bins=40, edgecolor='black')"
   ]
  },
  {
   "cell_type": "code",
   "execution_count": 93,
   "metadata": {},
   "outputs": [
    {
     "data": {
      "text/plain": [
       "<Axes: xlabel='Note'>"
      ]
     },
     "execution_count": 93,
     "metadata": {},
     "output_type": "execute_result"
    },
    {
     "data": {
      "image/png": "[encoded data removed]",
      "text/plain": [
       "<Figure size 640x480 with 1 Axes>"
      ]
     },
     "metadata": {},
     "output_type": "display_data"
    }
   ],
   "source": [
    "df['Note'].value_counts().plot(kind='bar')"
   ]
  },
  {
   "cell_type": "code",
   "execution_count": null,
   "metadata": {},
   "outputs": [],
   "source": []
  }
 ],
 "metadata": {
  "kernelspec": {
   "display_name": "simplon",
   "language": "python",
   "name": "python3"
  },
  "language_info": {
   "codemirror_mode": {
    "name": "ipython",
    "version": 3
   },
   "file_extension": ".py",
   "mimetype": "text/x-python",
   "name": "python",
   "nbconvert_exporter": "python",
   "pygments_lexer": "ipython3",
   "version": "3.11.2"
  }
 },
 "nbformat": 4,
 "nbformat_minor": 2
}
